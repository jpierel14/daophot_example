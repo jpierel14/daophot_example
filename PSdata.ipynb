{
 "cells": [
  {
   "cell_type": "code",
   "execution_count": 1,
   "id": "13019bea",
   "metadata": {},
   "outputs": [],
   "source": [
    "import numpy as np\n",
    "from astropy.io import fits\n",
    "from astropy.wcs import WCS\n",
    "from astropy.coordinates import SkyCoord\n",
    "from astropy import units as u\n",
    "import matplotlib.pyplot as plt\n",
    "from scipy import stats \n",
    "from astroquery.mast import Catalogs\n",
    "import math\n",
    "from astroquery.vizier import Vizier\n"
   ]
  },
  {
   "cell_type": "code",
   "execution_count": 2,
   "id": "c2dbdded",
   "metadata": {},
   "outputs": [],
   "source": [
    "def create_regionfile(filename, fitsfile,regionname,color):\n",
    "    x=np.genfromtxt(filename,usecols=0)\n",
    "    y=np.genfromtxt(filename,usecols=1)\n",
    "    flux=np.genfromtxt(filename,usecols=2)\n",
    "    w = WCS(fitsfile)\n",
    "    print (w)\n",
    "    ra_wcs=[0]*len(x) #creates a list with x elements\n",
    "    dec_wcs=[0]*len(x)\n",
    "    for i in range(len(x)):\n",
    "        ra_wcs[i], dec_wcs[i] = w.wcs_pix2world(x[i], y[i], 1)\n",
    "    ra_wcs=np.asarray(ra_wcs)\n",
    "    dec_wcs=np.asarray(dec_wcs)\n",
    "\n",
    "    with open(regionname, 'w') as f:\n",
    "        f.write('global color={0} dashlist=8 3 width=2 font=\\\"helvetica 10 normal roman\\\" select=1 highlite=1 dash=0 fixed=0 edit=1 move=1 delete=1 include=1 source=1 \\n'.format(color))\n",
    "        f.write('fk5 \\n')\n",
    "        for star in range(len(ra_wcs)):\n",
    "            xval = ra_wcs[star]\n",
    "            yval = dec_wcs[star]\n",
    "            f.write('circle({ra},{dec},{radius}\")\\n'.format(ra=xval, dec=yval,radius=12))\n",
    "            \n",
    "    return (ra_wcs,dec_wcs,flux)\n",
    "    f.close() \n"
   ]
  },
  {
   "cell_type": "code",
   "execution_count": 3,
   "id": "6b11c30b",
   "metadata": {},
   "outputs": [
    {
     "name": "stdout",
     "output_type": "stream",
     "text": [
      "WCS Keywords\n",
      "\n",
      "Number of WCS axes: 2\n",
      "CTYPE : 'RA---TAN'  'DEC--TAN'  \n",
      "CRVAL : 14.369206  30.198996  \n",
      "CRPIX : 3137.0  3134.5  \n",
      "PC1_1 PC1_2  : -1.0  0.0  \n",
      "PC2_1 PC2_2  : 0.0  1.0  \n",
      "CDELT : 6.94444461259994e-05  6.94444461259994e-05  \n",
      "NAXIS : 6274  6269\n"
     ]
    },
    {
     "name": "stderr",
     "output_type": "stream",
     "text": [
      "WARNING: FITSFixedWarning: PC001001= -1. \n",
      "this form of the PCi_ja keyword is deprecated, use PCi_ja. [astropy.wcs.wcs]\n",
      "WARNING: FITSFixedWarning: PC001002= 0. \n",
      "this form of the PCi_ja keyword is deprecated, use PCi_ja. [astropy.wcs.wcs]\n",
      "WARNING: FITSFixedWarning: PC002001= 0. \n",
      "this form of the PCi_ja keyword is deprecated, use PCi_ja. [astropy.wcs.wcs]\n",
      "WARNING: FITSFixedWarning: PC002002= 1. \n",
      "this form of the PCi_ja keyword is deprecated, use PCi_ja. [astropy.wcs.wcs]\n",
      "WARNING: FITSFixedWarning: 'datfix' made the change 'Set DATE-OBS to '2010-10-13T12:42:23.501' from MJD-OBS'. [astropy.wcs.wcs]\n",
      "/Users/cesar/anaconda/envs/astroc/lib/python3.7/site-packages/astropy/wcs/wcs.py:2873: RuntimeWarning: cdelt will be ignored since cd is present\n",
      "  description.append(s.format(*self.wcs.cdelt))\n"
     ]
    }
   ],
   "source": [
    "ra_dao,dec_dao,flux_dao=create_regionfile('outputcat_daopy','F15anh.g.101013_53_1933.sw.fits','dao.reg','red')"
   ]
  },
  {
   "cell_type": "code",
   "execution_count": 4,
   "id": "6f0318c0",
   "metadata": {},
   "outputs": [
    {
     "name": "stdout",
     "output_type": "stream",
     "text": [
      "WCS Keywords\n",
      "\n",
      "Number of WCS axes: 2\n",
      "CTYPE : 'RA---TAN'  'DEC--TAN'  \n",
      "CRVAL : 14.369206  30.198996  \n",
      "CRPIX : 3137.0  3134.5  \n",
      "PC1_1 PC1_2  : -1.0  0.0  \n",
      "PC2_1 PC2_2  : 0.0  1.0  \n",
      "CDELT : 6.94444461259994e-05  6.94444461259994e-05  \n",
      "NAXIS : 6274  6269\n"
     ]
    }
   ],
   "source": [
    "ra_phot,dec_phot,flux_phot=create_regionfile('outputcat_photutils','F15anh.g.101013_53_1933.sw.fits','photutils.reg','green')"
   ]
  },
  {
   "cell_type": "code",
   "execution_count": 32,
   "id": "c2f47250",
   "metadata": {},
   "outputs": [],
   "source": [
    "def compare_phot(ra1, dec1, ra2, dec2): #matches two catalogs\n",
    "    cf = SkyCoord(ra=ra1*u.degree, dec=dec1*u.degree)\n",
    "    catalogf = SkyCoord(ra=ra2*u.degree, dec=dec2*u.degree)\n",
    "\n",
    "    max_sep = 2.0 * u.arcsec\n",
    "    idxf, d2df, d3df = cf.match_to_catalog_3d(catalogf)\n",
    "    sep_constraintf = d2df < max_sep\n",
    "    c_matchesf = cf[sep_constraintf]\n",
    "    catalog_matchesf = catalogf[idxf[sep_constraintf]]\n",
    "    print ('Number of matches: ', len(c_matchesf), \"out of \", len(cf))\n",
    "    return ([sep_constraintf],[idxf],d2df)"
   ]
  },
  {
   "cell_type": "code",
   "execution_count": 6,
   "id": "186aeb16",
   "metadata": {},
   "outputs": [
    {
     "name": "stdout",
     "output_type": "stream",
     "text": [
      "Number of matches:  262 out of  269\n"
     ]
    }
   ],
   "source": [
    "boolval,idx,d2d=compare_phot(ra_dao,dec_dao,ra_phot,dec_phot)\n"
   ]
  },
  {
   "cell_type": "code",
   "execution_count": 7,
   "id": "7502ef2a",
   "metadata": {},
   "outputs": [
    {
     "name": "stderr",
     "output_type": "stream",
     "text": [
      "/Users/cesar/anaconda/envs/astroc/lib/python3.7/site-packages/ipykernel_launcher.py:2: RuntimeWarning: invalid value encountered in log10\n",
      "  \n"
     ]
    }
   ],
   "source": [
    "mag_dao=-2.5*np.log10(flux_dao)+27.5\n",
    "mag_phot=-2.5*np.log10(flux_phot)+27.5"
   ]
  },
  {
   "cell_type": "code",
   "execution_count": 8,
   "id": "ac37539f",
   "metadata": {},
   "outputs": [],
   "source": [
    "# len(flux_dao[boolval]),len(flux_phot[idx][boolval])\n"
   ]
  },
  {
   "cell_type": "code",
   "execution_count": 9,
   "id": "b75a9504",
   "metadata": {},
   "outputs": [
    {
     "name": "stderr",
     "output_type": "stream",
     "text": [
      "/Users/cesar/anaconda/envs/astroc/lib/python3.7/site-packages/ipykernel_launcher.py:1: FutureWarning: Using a non-tuple sequence for multidimensional indexing is deprecated; use `arr[tuple(seq)]` instead of `arr[seq]`. In the future this will be interpreted as an array index, `arr[np.array(seq)]`, which will result either in an error or a different result.\n",
      "  \"\"\"Entry point for launching an IPython kernel.\n"
     ]
    }
   ],
   "source": [
    "residuals=mag_dao[boolval]-mag_phot[idx][boolval]\n"
   ]
  },
  {
   "cell_type": "code",
   "execution_count": 10,
   "id": "5e64b37f",
   "metadata": {},
   "outputs": [
    {
     "name": "stderr",
     "output_type": "stream",
     "text": [
      "/Users/cesar/anaconda/envs/astroc/lib/python3.7/site-packages/ipykernel_launcher.py:3: FutureWarning: Using a non-tuple sequence for multidimensional indexing is deprecated; use `arr[tuple(seq)]` instead of `arr[seq]`. In the future this will be interpreted as an array index, `arr[np.array(seq)]`, which will result either in an error or a different result.\n",
      "  This is separate from the ipykernel package so we can avoid doing imports until\n",
      "/Users/cesar/anaconda/envs/astroc/lib/python3.7/site-packages/ipykernel_launcher.py:9: FutureWarning: Using a non-tuple sequence for multidimensional indexing is deprecated; use `arr[tuple(seq)]` instead of `arr[seq]`. In the future this will be interpreted as an array index, `arr[np.array(seq)]`, which will result either in an error or a different result.\n",
      "  if __name__ == '__main__':\n",
      "/Users/cesar/anaconda/envs/astroc/lib/python3.7/site-packages/ipykernel_launcher.py:17: FutureWarning: Using a non-tuple sequence for multidimensional indexing is deprecated; use `arr[tuple(seq)]` instead of `arr[seq]`. In the future this will be interpreted as an array index, `arr[np.array(seq)]`, which will result either in an error or a different result.\n"
     ]
    },
    {
     "data": {
      "text/plain": [
       "<ErrorbarContainer object of 3 artists>"
      ]
     },
     "execution_count": 10,
     "metadata": {},
     "output_type": "execute_result"
    },
    {
     "data": {
      "image/png": "[encoded data removed]",
      "text/plain": [
       "<Figure size 576x432 with 1 Axes>"
      ]
     },
     "metadata": {
      "needs_background": "light"
     },
     "output_type": "display_data"
    }
   ],
   "source": [
    "plt.figure(figsize=(8,6))\n",
    "# plt.scatter(flux_phot[idx][boolval],residual_flux)\n",
    "plt.scatter(mag_phot[idx][boolval],residuals)\n",
    "plt.xlabel('Photutils mag')\n",
    "plt.ylabel('DAO - photutils')\n",
    "\n",
    "\n",
    "bins=50\n",
    "count,_,_=stats.binned_statistic(mag_phot[idx][boolval],residuals, 'count', bins=bins)\n",
    "count_bool=[]\n",
    "for i in range(len(count)):\n",
    "        if count[i]>=3:\n",
    "            count_bool.append(True)\n",
    "        else:\n",
    "            count_bool.append(False)\n",
    "\n",
    "bin_med, edges, binnumber=stats.binned_statistic(mag_phot[idx][boolval],residuals, 'median', bins=bins)\n",
    "\n",
    "plt.errorbar(((edges[1:]+edges[:-1])/2.)[count_bool],bin_med[count_bool],0,fmt ='r-o',ms=8)\n"
   ]
  },
  {
   "cell_type": "code",
   "execution_count": 11,
   "id": "706be17e",
   "metadata": {},
   "outputs": [],
   "source": [
    "import pickle\n",
    "\n",
    "\n",
    "with open('new_sex_output.pkl', 'rb') as f:\n",
    "    data = pickle.load(f)"
   ]
  },
  {
   "cell_type": "code",
   "execution_count": null,
   "id": "6384a83a",
   "metadata": {},
   "outputs": [],
   "source": []
  },
  {
   "cell_type": "code",
   "execution_count": 13,
   "id": "e7582154",
   "metadata": {},
   "outputs": [
    {
     "data": {
      "text/plain": [
       "['x',\n",
       " 'y',\n",
       " 'fwhm_image',\n",
       " 'ellipt',\n",
       " 'flags',\n",
       " 'class_star',\n",
       " 'fwhm_world',\n",
       " 'flux',\n",
       " 'fluxerr',\n",
       " 'flag_sn',\n",
       " 'CXX_IMAGE',\n",
       " 'CXY_IMAGE',\n",
       " 'CYY_IMAGE']"
      ]
     },
     "execution_count": 13,
     "metadata": {},
     "output_type": "execute_result"
    }
   ],
   "source": [
    "list(data.keys())"
   ]
  },
  {
   "cell_type": "code",
   "execution_count": 14,
   "id": "2423f0c6",
   "metadata": {},
   "outputs": [
    {
     "name": "stdout",
     "output_type": "stream",
     "text": [
      "WCS Keywords\n",
      "\n",
      "Number of WCS axes: 2\n",
      "CTYPE : 'RA---TAN'  'DEC--TAN'  \n",
      "CRVAL : 14.369206  30.198996  \n",
      "CRPIX : 3137.0  3134.5  \n",
      "PC1_1 PC1_2  : -1.0  0.0  \n",
      "PC2_1 PC2_2  : 0.0  1.0  \n",
      "CDELT : 6.94444461259994e-05  6.94444461259994e-05  \n",
      "NAXIS : 6274  6269\n"
     ]
    },
    {
     "name": "stderr",
     "output_type": "stream",
     "text": [
      "WARNING: FITSFixedWarning: PC001001= -1. \n",
      "this form of the PCi_ja keyword is deprecated, use PCi_ja. [astropy.wcs.wcs]\n",
      "WARNING: FITSFixedWarning: PC001002= 0. \n",
      "this form of the PCi_ja keyword is deprecated, use PCi_ja. [astropy.wcs.wcs]\n",
      "WARNING: FITSFixedWarning: PC002001= 0. \n",
      "this form of the PCi_ja keyword is deprecated, use PCi_ja. [astropy.wcs.wcs]\n",
      "WARNING: FITSFixedWarning: PC002002= 1. \n",
      "this form of the PCi_ja keyword is deprecated, use PCi_ja. [astropy.wcs.wcs]\n",
      "WARNING: FITSFixedWarning: 'datfix' made the change 'Set DATE-OBS to '2010-10-13T12:42:23.501' from MJD-OBS'. [astropy.wcs.wcs]\n",
      "/Users/cesar/anaconda/envs/astroc/lib/python3.7/site-packages/astropy/wcs/wcs.py:2873: RuntimeWarning: cdelt will be ignored since cd is present\n",
      "  description.append(s.format(*self.wcs.cdelt))\n"
     ]
    }
   ],
   "source": [
    "list(data.keys())\n",
    "\n",
    "xpkl=data['x']\n",
    "ypkl=data['y']\n",
    "\n",
    "def create_regionfile_pkl( fitsfile,regionname,color):\n",
    "    x=xpkl\n",
    "    y=ypkl=data['y']\n",
    "#     flux=np.genfromtxt(filename,usecols=2)\n",
    "    w = WCS(fitsfile)\n",
    "    print (w)\n",
    "    ra_wcs=[0]*len(x) #creates a list with x elements\n",
    "    dec_wcs=[0]*len(x)\n",
    "    for i in range(len(x)):\n",
    "        ra_wcs[i], dec_wcs[i] = w.wcs_pix2world(x[i], y[i], 1)\n",
    "    ra_wcs=np.asarray(ra_wcs)\n",
    "    dec_wcs=np.asarray(dec_wcs)\n",
    "\n",
    "    with open(regionname, 'w') as f:\n",
    "        f.write('global color={0} dashlist=8 3 width=2 font=\\\"helvetica 10 normal roman\\\" select=1 highlite=1 dash=0 fixed=0 edit=1 move=1 delete=1 include=1 source=1 \\n'.format(color))\n",
    "        f.write('fk5 \\n')\n",
    "        for star in range(len(ra_wcs)):\n",
    "            xval = ra_wcs[star]\n",
    "            yval = dec_wcs[star]\n",
    "            f.write('circle({ra},{dec},{radius}\")\\n'.format(ra=xval, dec=yval,radius=6))\n",
    "            \n",
    "    return (ra_wcs,dec_wcs)\n",
    "    f.close() \n",
    "rapkl,decpkl= create_regionfile_pkl('F15anh.g.101013_53_1933.sw.fits','pkl.reg','yellow')"
   ]
  },
  {
   "cell_type": "code",
   "execution_count": 15,
   "id": "6cdfcc0f",
   "metadata": {},
   "outputs": [
    {
     "data": {
      "text/plain": [
       "127"
      ]
     },
     "execution_count": 15,
     "metadata": {},
     "output_type": "execute_result"
    }
   ],
   "source": [
    "len(data['x'])"
   ]
  },
  {
   "cell_type": "code",
   "execution_count": 16,
   "id": "39c8ca64",
   "metadata": {},
   "outputs": [
    {
     "name": "stderr",
     "output_type": "stream",
     "text": [
      "WARNING: InputWarning: Coordinate string is being interpreted as an ICRS coordinate provided in degrees. [astroquery.utils.commons]\n"
     ]
    },
    {
     "name": "stdout",
     "output_type": "stream",
     "text": [
      "Number of results: 50000\n",
      "         ObjName           objAltName1 objAltName2 objAltName3 ... yMeanApMagStd yMeanApMagNpt yFlags       distance     \n",
      "-------------------------- ----------- ----------- ----------- ... ------------- ------------- ------ -------------------\n",
      "PSO J005731.025+300611.069        -999        -999        -999 ...            --             0      0  0.1580858505964608\n",
      "PSO J005730.767+300608.825        -999        -999        -999 ...            --             0      0  0.1584655719581163\n",
      "PSO J005730.677+300612.884        -999        -999        -999 ...            --             0      0 0.15729158216155548\n",
      "PSO J005731.138+300613.267        -999        -999        -999 ...            --             0      0  0.1575944353951112\n",
      "PSO J005728.757+300612.637        -999        -999        -999 ...            --             0      0 0.15585823480348435\n",
      "PSO J005729.156+300607.301        -999        -999        -999 ...            --             0  16416 0.15759685045394733\n",
      "PSO J005729.226+300606.526        -999        -999        -999 ...            --             0      0 0.15785893659445877\n",
      "PSO J005729.588+300618.643        -999        -999        -999 ...            --             0      0 0.15484303877247577\n",
      "PSO J005729.072+300619.757        -999        -999        -999 ...            --             0      0  0.1541461699361978\n",
      "PSO J005729.183+300620.743        -999        -999        -999 ...            --             0      0  0.1539629694691191\n"
     ]
    }
   ],
   "source": [
    "catalog_data = Catalogs.query_region(\"14.33446521 30.25634188\", radius=0.2,\n",
    "                                      catalog=\"Panstarrs\", data_release=\"dr1\", table=\"mean\")\n",
    "print(\"Number of results:\",len(catalog_data))\n",
    "print(catalog_data[:10])"
   ]
  },
  {
   "cell_type": "code",
   "execution_count": 17,
   "id": "73ae01f1",
   "metadata": {},
   "outputs": [
    {
     "data": {
      "text/plain": [
       "1241"
      ]
     },
     "execution_count": 17,
     "metadata": {},
     "output_type": "execute_result"
    },
    {
     "data": {
      "image/png": "[encoded data removed]",
      "text/plain": [
       "<Figure size 432x288 with 1 Axes>"
      ]
     },
     "metadata": {
      "needs_background": "light"
     },
     "output_type": "display_data"
    }
   ],
   "source": [
    "raps1=catalog_data[:]['raMean']\n",
    "decps1=catalog_data[:]['decMean']\n",
    "gmag=catalog_data[:]['gMeanPSFMag']\n",
    "\n",
    "nDet=catalog_data[:]['nDetections']\n",
    "plt.hist(nDet,bins=30)\n",
    "gmagind=np.where(gmag>0)\n",
    "\n",
    "ind=np.where(nDet[gmagind]>10)\n",
    "len(raps1[ind])\n"
   ]
  },
  {
   "cell_type": "code",
   "execution_count": 18,
   "id": "62b3e89e",
   "metadata": {},
   "outputs": [],
   "source": [
    "                   \n",
    "# gmag = gmag[gmag.mask == False]  \n",
    "# gmagn"
   ]
  },
  {
   "cell_type": "code",
   "execution_count": null,
   "id": "23289b34",
   "metadata": {},
   "outputs": [],
   "source": []
  },
  {
   "cell_type": "code",
   "execution_count": null,
   "id": "387f5dd9",
   "metadata": {},
   "outputs": [],
   "source": []
  },
  {
   "cell_type": "code",
   "execution_count": 19,
   "id": "ee9f46bb",
   "metadata": {},
   "outputs": [],
   "source": [
    "raps1=raps1[ind]\n",
    "decps1=decps1[ind]"
   ]
  },
  {
   "cell_type": "code",
   "execution_count": null,
   "id": "cdcc6944",
   "metadata": {},
   "outputs": [],
   "source": []
  },
  {
   "cell_type": "code",
   "execution_count": 20,
   "id": "d742f43b",
   "metadata": {},
   "outputs": [
    {
     "data": {
      "text/plain": [
       "['ObjName',\n",
       " 'objAltName1',\n",
       " 'objAltName2',\n",
       " 'objAltName3',\n",
       " 'objID',\n",
       " 'uniquePspsOBid',\n",
       " 'ippObjID',\n",
       " 'surveyID',\n",
       " 'htmID',\n",
       " 'zoneID',\n",
       " 'tessID',\n",
       " 'projectionID',\n",
       " 'skyCellID',\n",
       " 'randomID',\n",
       " 'batchID',\n",
       " 'dvoRegionID',\n",
       " 'processingVersion',\n",
       " 'objInfoFlag',\n",
       " 'qualityFlag',\n",
       " 'raStack',\n",
       " 'decStack',\n",
       " 'raStackErr',\n",
       " 'decStackErr',\n",
       " 'raMean',\n",
       " 'decMean',\n",
       " 'raMeanErr',\n",
       " 'decMeanErr',\n",
       " 'epochMean',\n",
       " 'posMeanChisq',\n",
       " 'cx',\n",
       " 'cy',\n",
       " 'cz',\n",
       " 'lambda',\n",
       " 'beta',\n",
       " 'l',\n",
       " 'b',\n",
       " 'nStackObjectRows',\n",
       " 'nStackDetections',\n",
       " 'nDetections',\n",
       " 'ng',\n",
       " 'nr',\n",
       " 'ni',\n",
       " 'nz',\n",
       " 'ny',\n",
       " 'gQfPerfect',\n",
       " 'gMeanPSFMag',\n",
       " 'gMeanPSFMagErr',\n",
       " 'gMeanPSFMagStd',\n",
       " 'gMeanPSFMagNpt',\n",
       " 'gMeanPSFMagMin',\n",
       " 'gMeanPSFMagMax',\n",
       " 'gMeanKronMag',\n",
       " 'gMeanKronMagErr',\n",
       " 'gMeanKronMagStd',\n",
       " 'gMeanKronMagNpt',\n",
       " 'gMeanApMag',\n",
       " 'gMeanApMagErr',\n",
       " 'gMeanApMagStd',\n",
       " 'gMeanApMagNpt',\n",
       " 'gFlags',\n",
       " 'rQfPerfect',\n",
       " 'rMeanPSFMag',\n",
       " 'rMeanPSFMagErr',\n",
       " 'rMeanPSFMagStd',\n",
       " 'rMeanPSFMagNpt',\n",
       " 'rMeanPSFMagMin',\n",
       " 'rMeanPSFMagMax',\n",
       " 'rMeanKronMag',\n",
       " 'rMeanKronMagErr',\n",
       " 'rMeanKronMagStd',\n",
       " 'rMeanKronMagNpt',\n",
       " 'rMeanApMag',\n",
       " 'rMeanApMagErr',\n",
       " 'rMeanApMagStd',\n",
       " 'rMeanApMagNpt',\n",
       " 'rFlags',\n",
       " 'iQfPerfect',\n",
       " 'iMeanPSFMag',\n",
       " 'iMeanPSFMagErr',\n",
       " 'iMeanPSFMagStd',\n",
       " 'iMeanPSFMagNpt',\n",
       " 'iMeanPSFMagMin',\n",
       " 'iMeanPSFMagMax',\n",
       " 'iMeanKronMag',\n",
       " 'iMeanKronMagErr',\n",
       " 'iMeanKronMagStd',\n",
       " 'iMeanKronMagNpt',\n",
       " 'iMeanApMag',\n",
       " 'iMeanApMagErr',\n",
       " 'iMeanApMagStd',\n",
       " 'iMeanApMagNpt',\n",
       " 'iFlags',\n",
       " 'zQfPerfect',\n",
       " 'zMeanPSFMag',\n",
       " 'zMeanPSFMagErr',\n",
       " 'zMeanPSFMagStd',\n",
       " 'zMeanPSFMagNpt',\n",
       " 'zMeanPSFMagMin',\n",
       " 'zMeanPSFMagMax',\n",
       " 'zMeanKronMag',\n",
       " 'zMeanKronMagErr',\n",
       " 'zMeanKronMagStd',\n",
       " 'zMeanKronMagNpt',\n",
       " 'zMeanApMag',\n",
       " 'zMeanApMagErr',\n",
       " 'zMeanApMagStd',\n",
       " 'zMeanApMagNpt',\n",
       " 'zFlags',\n",
       " 'yQfPerfect',\n",
       " 'yMeanPSFMag',\n",
       " 'yMeanPSFMagErr',\n",
       " 'yMeanPSFMagStd',\n",
       " 'yMeanPSFMagNpt',\n",
       " 'yMeanPSFMagMin',\n",
       " 'yMeanPSFMagMax',\n",
       " 'yMeanKronMag',\n",
       " 'yMeanKronMagErr',\n",
       " 'yMeanKronMagStd',\n",
       " 'yMeanKronMagNpt',\n",
       " 'yMeanApMag',\n",
       " 'yMeanApMagErr',\n",
       " 'yMeanApMagStd',\n",
       " 'yMeanApMagNpt',\n",
       " 'yFlags',\n",
       " 'distance']"
      ]
     },
     "execution_count": 20,
     "metadata": {},
     "output_type": "execute_result"
    }
   ],
   "source": [
    "catalog_data.colnames"
   ]
  },
  {
   "cell_type": "code",
   "execution_count": 21,
   "id": "ea4b4124",
   "metadata": {},
   "outputs": [],
   "source": [
    "with open('ps1.reg', 'w') as f:\n",
    "        f.write('global color={0} dashlist=8 3 width=2 font=\\\"helvetica 10 normal roman\\\" select=1 highlite=1 dash=0 fixed=0 edit=1 move=1 delete=1 include=1 source=1 \\n'.format('yellow'))\n",
    "        f.write('fk5 \\n')\n",
    "        for star in range(len(raps1)):\n",
    "            xval = raps1[star]\n",
    "            yval = decps1[star]\n",
    "            f.write('circle({ra},{dec},{radius}\")\\n'.format(ra=xval, dec=yval,radius=6))"
   ]
  },
  {
   "cell_type": "code",
   "execution_count": 22,
   "id": "1fa70da8",
   "metadata": {},
   "outputs": [
    {
     "data": {
      "text/html": [
       "<i>Row index=0 masked=True</i>\n",
       "<table id=\"table5063529680\">\n",
       "<thead><tr><th>ObjName</th><th>objAltName1</th><th>objAltName2</th><th>objAltName3</th><th>objID</th><th>uniquePspsOBid</th><th>ippObjID</th><th>surveyID</th><th>htmID</th><th>zoneID</th><th>tessID</th><th>projectionID</th><th>skyCellID</th><th>randomID</th><th>batchID</th><th>dvoRegionID</th><th>processingVersion</th><th>objInfoFlag</th><th>qualityFlag</th><th>raStack</th><th>decStack</th><th>raStackErr</th><th>decStackErr</th><th>raMean</th><th>decMean</th><th>raMeanErr</th><th>decMeanErr</th><th>epochMean</th><th>posMeanChisq</th><th>cx</th><th>cy</th><th>cz</th><th>lambda</th><th>beta</th><th>l</th><th>b</th><th>nStackObjectRows</th><th>nStackDetections</th><th>nDetections</th><th>ng</th><th>nr</th><th>ni</th><th>nz</th><th>ny</th><th>gQfPerfect</th><th>gMeanPSFMag</th><th>gMeanPSFMagErr</th><th>gMeanPSFMagStd</th><th>gMeanPSFMagNpt</th><th>gMeanPSFMagMin</th><th>gMeanPSFMagMax</th><th>gMeanKronMag</th><th>gMeanKronMagErr</th><th>gMeanKronMagStd</th><th>gMeanKronMagNpt</th><th>gMeanApMag</th><th>gMeanApMagErr</th><th>gMeanApMagStd</th><th>gMeanApMagNpt</th><th>gFlags</th><th>rQfPerfect</th><th>rMeanPSFMag</th><th>rMeanPSFMagErr</th><th>rMeanPSFMagStd</th><th>rMeanPSFMagNpt</th><th>rMeanPSFMagMin</th><th>rMeanPSFMagMax</th><th>rMeanKronMag</th><th>rMeanKronMagErr</th><th>rMeanKronMagStd</th><th>rMeanKronMagNpt</th><th>rMeanApMag</th><th>rMeanApMagErr</th><th>rMeanApMagStd</th><th>rMeanApMagNpt</th><th>rFlags</th><th>iQfPerfect</th><th>iMeanPSFMag</th><th>iMeanPSFMagErr</th><th>iMeanPSFMagStd</th><th>iMeanPSFMagNpt</th><th>iMeanPSFMagMin</th><th>iMeanPSFMagMax</th><th>iMeanKronMag</th><th>iMeanKronMagErr</th><th>iMeanKronMagStd</th><th>iMeanKronMagNpt</th><th>iMeanApMag</th><th>iMeanApMagErr</th><th>iMeanApMagStd</th><th>iMeanApMagNpt</th><th>iFlags</th><th>zQfPerfect</th><th>zMeanPSFMag</th><th>zMeanPSFMagErr</th><th>zMeanPSFMagStd</th><th>zMeanPSFMagNpt</th><th>zMeanPSFMagMin</th><th>zMeanPSFMagMax</th><th>zMeanKronMag</th><th>zMeanKronMagErr</th><th>zMeanKronMagStd</th><th>zMeanKronMagNpt</th><th>zMeanApMag</th><th>zMeanApMagErr</th><th>zMeanApMagStd</th><th>zMeanApMagNpt</th><th>zFlags</th><th>yQfPerfect</th><th>yMeanPSFMag</th><th>yMeanPSFMagErr</th><th>yMeanPSFMagStd</th><th>yMeanPSFMagNpt</th><th>yMeanPSFMagMin</th><th>yMeanPSFMagMax</th><th>yMeanKronMag</th><th>yMeanKronMagErr</th><th>yMeanKronMagStd</th><th>yMeanKronMagNpt</th><th>yMeanApMag</th><th>yMeanApMagErr</th><th>yMeanApMagStd</th><th>yMeanApMagNpt</th><th>yFlags</th><th>distance</th></tr></thead>\n",
       "<thead><tr><th>str26</th><th>str4</th><th>str4</th><th>str4</th><th>int64</th><th>int64</th><th>int64</th><th>uint8</th><th>int64</th><th>int64</th><th>uint8</th><th>int64</th><th>uint8</th><th>float64</th><th>int64</th><th>int64</th><th>uint8</th><th>int64</th><th>uint8</th><th>float64</th><th>float64</th><th>float64</th><th>float64</th><th>float64</th><th>float64</th><th>float64</th><th>float64</th><th>float64</th><th>float64</th><th>float64</th><th>float64</th><th>float64</th><th>float64</th><th>float64</th><th>float64</th><th>float64</th><th>int64</th><th>int64</th><th>int64</th><th>int64</th><th>int64</th><th>int64</th><th>int64</th><th>int64</th><th>float64</th><th>float64</th><th>float64</th><th>float64</th><th>int64</th><th>float64</th><th>float64</th><th>float64</th><th>float64</th><th>float64</th><th>int64</th><th>float64</th><th>float64</th><th>float64</th><th>int64</th><th>int64</th><th>float64</th><th>float64</th><th>float64</th><th>float64</th><th>int64</th><th>float64</th><th>float64</th><th>float64</th><th>float64</th><th>float64</th><th>int64</th><th>float64</th><th>float64</th><th>float64</th><th>int64</th><th>int64</th><th>float64</th><th>float64</th><th>float64</th><th>float64</th><th>int64</th><th>float64</th><th>float64</th><th>float64</th><th>float64</th><th>float64</th><th>int64</th><th>float64</th><th>float64</th><th>float64</th><th>int64</th><th>int64</th><th>float64</th><th>float64</th><th>float64</th><th>float64</th><th>int64</th><th>float64</th><th>float64</th><th>float64</th><th>float64</th><th>float64</th><th>int64</th><th>float64</th><th>float64</th><th>float64</th><th>int64</th><th>int64</th><th>float64</th><th>float64</th><th>float64</th><th>float64</th><th>int64</th><th>float64</th><th>float64</th><th>float64</th><th>float64</th><th>float64</th><th>int64</th><th>float64</th><th>float64</th><th>float64</th><th>int64</th><th>int64</th><th>float64</th></tr></thead>\n",
       "<tr><td>PSO J005731.025+300611.069</td><td>-999</td><td>-999</td><td>-999</td><td>144120143792904276</td><td>916324000027801</td><td>199638669880472</td><td>0</td><td>17219822049627</td><td>14412</td><td>1</td><td>1933</td><td>53</td><td>0.503303621433027</td><td>916324</td><td>46482</td><td>3</td><td>268959744</td><td>32</td><td>--</td><td>--</td><td>--</td><td>--</td><td>14.37927323</td><td>30.10307485</td><td>0.19801999628543854</td><td>0.19801999628543854</td><td>55815.42278935</td><td>--</td><td>0.838022802876962</td><td>0.21484457455887215</td><td>0.5015571658752946</td><td>25.327514218544678</td><td>22.006355532938883</td><td>124.49524838200327</td><td>-32.75022020838383</td><td>--</td><td>0</td><td>1</td><td>0</td><td>0</td><td>1</td><td>0</td><td>0</td><td>--</td><td>--</td><td>--</td><td>--</td><td>0</td><td>--</td><td>--</td><td>--</td><td>--</td><td>--</td><td>0</td><td>--</td><td>--</td><td>--</td><td>0</td><td>0</td><td>--</td><td>--</td><td>--</td><td>--</td><td>0</td><td>--</td><td>--</td><td>--</td><td>--</td><td>--</td><td>0</td><td>--</td><td>--</td><td>--</td><td>0</td><td>0</td><td>0.812982976436615</td><td>21.478099822998047</td><td>0.1974470019340515</td><td>--</td><td>1</td><td>21.478099822998047</td><td>21.478099822998047</td><td>--</td><td>--</td><td>--</td><td>0</td><td>22.383499145507812</td><td>0.1974470019340515</td><td>--</td><td>1</td><td>4120</td><td>--</td><td>--</td><td>--</td><td>--</td><td>0</td><td>--</td><td>--</td><td>--</td><td>--</td><td>--</td><td>0</td><td>--</td><td>--</td><td>--</td><td>0</td><td>0</td><td>--</td><td>--</td><td>--</td><td>--</td><td>0</td><td>--</td><td>--</td><td>--</td><td>--</td><td>--</td><td>0</td><td>--</td><td>--</td><td>--</td><td>0</td><td>0</td><td>0.1580858505964608</td></tr>\n",
       "</table>"
      ],
      "text/plain": [
       "<Row index=0 masked=True>\n",
       "         ObjName           objAltName1 objAltName2 objAltName3       objID         uniquePspsOBid     ippObjID    surveyID     htmID      zoneID tessID projectionID skyCellID      randomID     batchID dvoRegionID processingVersion objInfoFlag qualityFlag raStack decStack raStackErr decStackErr    raMean     decMean        raMeanErr           decMeanErr       epochMean    posMeanChisq         cx                 cy                 cz               lambda              beta                l                  b          nStackObjectRows nStackDetections nDetections   ng    nr    ni    nz    ny  gQfPerfect gMeanPSFMag gMeanPSFMagErr gMeanPSFMagStd gMeanPSFMagNpt gMeanPSFMagMin gMeanPSFMagMax gMeanKronMag gMeanKronMagErr gMeanKronMagStd gMeanKronMagNpt gMeanApMag gMeanApMagErr gMeanApMagStd gMeanApMagNpt gFlags rQfPerfect rMeanPSFMag rMeanPSFMagErr rMeanPSFMagStd rMeanPSFMagNpt rMeanPSFMagMin rMeanPSFMagMax rMeanKronMag rMeanKronMagErr rMeanKronMagStd rMeanKronMagNpt rMeanApMag rMeanApMagErr rMeanApMagStd rMeanApMagNpt rFlags     iQfPerfect       iMeanPSFMag       iMeanPSFMagErr   iMeanPSFMagStd iMeanPSFMagNpt   iMeanPSFMagMin     iMeanPSFMagMax   iMeanKronMag iMeanKronMagErr iMeanKronMagStd iMeanKronMagNpt     iMeanApMag       iMeanApMagErr    iMeanApMagStd iMeanApMagNpt iFlags zQfPerfect zMeanPSFMag zMeanPSFMagErr zMeanPSFMagStd zMeanPSFMagNpt zMeanPSFMagMin zMeanPSFMagMax zMeanKronMag zMeanKronMagErr zMeanKronMagStd zMeanKronMagNpt zMeanApMag zMeanApMagErr zMeanApMagStd zMeanApMagNpt zFlags yQfPerfect yMeanPSFMag yMeanPSFMagErr yMeanPSFMagStd yMeanPSFMagNpt yMeanPSFMagMin yMeanPSFMagMax yMeanKronMag yMeanKronMagErr yMeanKronMagStd yMeanKronMagNpt yMeanApMag yMeanApMagErr yMeanApMagStd yMeanApMagNpt yFlags      distance     \n",
       "          str26                str4        str4        str4          int64             int64           int64       uint8       int64      int64  uint8     int64       uint8        float64       int64     int64          uint8          int64       uint8    float64 float64   float64     float64     float64     float64         float64             float64          float64       float64         float64            float64            float64            float64            float64            float64            float64            int64            int64          int64    int64 int64 int64 int64 int64  float64     float64      float64        float64         int64         float64        float64       float64        float64         float64          int64       float64      float64       float64        int64     int64   float64     float64      float64        float64         int64         float64        float64       float64        float64         float64          int64       float64      float64       float64        int64     int64       float64           float64            float64          float64         int64           float64            float64         float64        float64         float64          int64           float64            float64          float64        int64     int64   float64     float64      float64        float64         int64         float64        float64       float64        float64         float64          int64       float64      float64       float64        int64     int64   float64     float64      float64        float64         int64         float64        float64       float64        float64         float64          int64       float64      float64       float64        int64     int64       float64      \n",
       "-------------------------- ----------- ----------- ----------- ------------------ --------------- --------------- -------- -------------- ------ ------ ------------ --------- ----------------- ------- ----------- ----------------- ----------- ----------- ------- -------- ---------- ----------- ----------- ----------- ------------------- ------------------- -------------- ------------ ----------------- ------------------- ------------------ ------------------ ------------------ ------------------ ------------------ ---------------- ---------------- ----------- ----- ----- ----- ----- ----- ---------- ----------- -------------- -------------- -------------- -------------- -------------- ------------ --------------- --------------- --------------- ---------- ------------- ------------- ------------- ------ ---------- ----------- -------------- -------------- -------------- -------------- -------------- ------------ --------------- --------------- --------------- ---------- ------------- ------------- ------------- ------ ----------------- ------------------ ------------------ -------------- -------------- ------------------ ------------------ ------------ --------------- --------------- --------------- ------------------ ------------------ ------------- ------------- ------ ---------- ----------- -------------- -------------- -------------- -------------- -------------- ------------ --------------- --------------- --------------- ---------- ------------- ------------- ------------- ------ ---------- ----------- -------------- -------------- -------------- -------------- -------------- ------------ --------------- --------------- --------------- ---------- ------------- ------------- ------------- ------ ------------------\n",
       "PSO J005731.025+300611.069        -999        -999        -999 144120143792904276 916324000027801 199638669880472        0 17219822049627  14412      1         1933        53 0.503303621433027  916324       46482                 3   268959744          32      --       --         --          -- 14.37927323 30.10307485 0.19801999628543854 0.19801999628543854 55815.42278935           -- 0.838022802876962 0.21484457455887215 0.5015571658752946 25.327514218544678 22.006355532938883 124.49524838200327 -32.75022020838383               --                0           1     0     0     1     0     0         --          --             --             --              0             --             --           --              --              --               0         --            --            --             0      0         --          --             --             --              0             --             --           --              --              --               0         --            --            --             0      0 0.812982976436615 21.478099822998047 0.1974470019340515             --              1 21.478099822998047 21.478099822998047           --              --              --               0 22.383499145507812 0.1974470019340515            --             1   4120         --          --             --             --              0             --             --           --              --              --               0         --            --            --             0      0         --          --             --             --              0             --             --           --              --              --               0         --            --            --             0      0 0.1580858505964608"
      ]
     },
     "execution_count": 22,
     "metadata": {},
     "output_type": "execute_result"
    }
   ],
   "source": [
    "catalog_data[0]"
   ]
  },
  {
   "cell_type": "code",
   "execution_count": 23,
   "id": "1d1756f5",
   "metadata": {},
   "outputs": [],
   "source": [
    "def getPS1cat4table ():\n",
    "# Assume a table of observations, check RA/DEC to make sure overlapping\n",
    "    ra = '0:57:30.673'\n",
    "    dec = '+30:14:19.993'\n",
    "    c = SkyCoord(ra, dec, unit=(u.hourangle, u.degree), frame='icrs')\n",
    "    \n",
    "\n",
    "    # Download a catalog for the first coordinate with a large enough radius to\n",
    "    # overlap with all catalogs\n",
    "    radius = 1\n",
    "    RAboxsize = DECboxsize = 0.6\n",
    "    Mmax = 22.0\n",
    "\n",
    "    # get the maximum 1.0/cos(DEC) term: used for RA cut\n",
    "    minDec = c.dec.degree-0.5*DECboxsize\n",
    "    if minDec<=-90.0:minDec=-89.9\n",
    "    maxDec = c.dec.degree+0.5*DECboxsize\n",
    "    if maxDec>=90.0:maxDec=89.9\n",
    "\n",
    "    invcosdec = max(1.0/math.cos(c.dec.degree*math.pi/180.0),\n",
    "                            1.0/math.cos(minDec  *math.pi/180.0),\n",
    "                            1.0/math.cos(maxDec  *math.pi/180.0))\n",
    "\n",
    "    ramin = c.ra.degree-0.5*RAboxsize*invcosdec\n",
    "    ramax = c.ra.degree+0.5*RAboxsize*invcosdec\n",
    "    decmin = c.dec.degree-0.5*DECboxsize\n",
    "    decmax = c.dec.degree+0.5*DECboxsize\n",
    "    vquery = Vizier(columns=['RAJ2000', 'DEJ2000',\n",
    "                             'gmag', 'e_gmag',\n",
    "                             'rmag', 'e_rmag',\n",
    "                             'imag', 'e_imag',\n",
    "#                              'zmag', 'e_zmag',\n",
    "#                              'ymag', 'e_ymag',\n",
    "                            'gKmag','e_gKmag',\n",
    "                            'rKmag','e_rKmag',\n",
    "                            'iKmag','e_iKmag',\n",
    "                            'objID'],\n",
    "    #                         'zKmag','e_zKmag',\n",
    "    #                         'yKmag','e_yKmag'],\n",
    "                    column_filters={'gmag':\n",
    "                                    ('<%f' % Mmax)},\n",
    "                    row_limit=100000)\n",
    "\n",
    "    tbdata = vquery.query_region(c, width=('%fd' % radius),\n",
    "                catalog='II/349/ps1')[0]\n",
    "    tbdata.rename_column('RAJ2000', 'ra_ps1')\n",
    "    tbdata.rename_column('DEJ2000', 'dec_ps1')\n",
    "    tbdata.rename_column('gmag', 'PS1_g')\n",
    "    tbdata.rename_column('e_gmag', 'PS1_g_err')\n",
    "    tbdata.rename_column('rmag', 'PS1_r')\n",
    "    tbdata.rename_column('e_rmag', 'PS1_r_err')\n",
    "    tbdata.rename_column('imag', 'PS1_i')\n",
    "    tbdata.rename_column('e_imag', 'PS1_i_err')\n",
    "    tbdata.rename_column('objID', 'PS1_ID')\n",
    "\n",
    "\n",
    "    mask = ((tbdata['ra_ps1']<ramax) & (tbdata['ra_ps1']>ramin) &\n",
    "            (tbdata['dec_ps1']<decmax) & (tbdata['dec_ps1']>decmin) & (tbdata['PS1_i']-tbdata['iKmag']<0.05) )\n",
    "    tbdata = tbdata[mask]\n",
    "\n",
    "    # Mask table\n",
    "    for key in tbdata.keys():\n",
    "        if key not in ['ra_ps1','dec_ps1']:\n",
    "            tbdata[key] = [str(dat) for dat in tbdata[key]]\n",
    "    print (len(tbdata))\n",
    "    return(tbdata)"
   ]
  },
  {
   "cell_type": "code",
   "execution_count": 24,
   "id": "c1a6c36c",
   "metadata": {},
   "outputs": [
    {
     "name": "stdout",
     "output_type": "stream",
     "text": [
      "1735\n"
     ]
    }
   ],
   "source": [
    "viziertable=getPS1cat4table()"
   ]
  },
  {
   "cell_type": "code",
   "execution_count": 25,
   "id": "83ab541d",
   "metadata": {},
   "outputs": [
    {
     "data": {
      "text/html": [
       "<div><i>Table length=1735</i>\n",
       "<table id=\"table4766316048\" class=\"table-striped table-bordered table-condensed\">\n",
       "<thead><tr><th>ra_ps1</th><th>dec_ps1</th><th>PS1_g</th><th>PS1_g_err</th><th>PS1_r</th><th>PS1_r_err</th><th>PS1_i</th><th>PS1_i_err</th><th>gKmag</th><th>e_gKmag</th><th>rKmag</th><th>e_rKmag</th><th>iKmag</th><th>e_iKmag</th><th>PS1_ID</th></tr></thead>\n",
       "<thead><tr><th>deg</th><th>deg</th><th></th><th></th><th></th><th></th><th></th><th></th><th></th><th></th><th></th><th></th><th></th><th></th><th></th></tr></thead>\n",
       "<thead><tr><th>float64</th><th>float64</th><th>str7</th><th>str6</th><th>str7</th><th>str6</th><th>str7</th><th>str6</th><th>str7</th><th>str6</th><th>str7</th><th>str6</th><th>str7</th><th>str6</th><th>str18</th></tr></thead>\n",
       "<tr><td>14.075058940</td><td>29.943273050</td><td>15.5122</td><td>0.0058</td><td>15.1049</td><td>0.0013</td><td>14.9178</td><td>0.0008</td><td>15.5345</td><td>1e-04</td><td>15.1361</td><td>0.003</td><td>14.9808</td><td>0.0023</td><td>143930140750192533</td></tr>\n",
       "<tr><td>14.064887690</td><td>29.954520240</td><td>18.4951</td><td>0.005</td><td>17.3174</td><td>0.0028</td><td>16.6396</td><td>0.0035</td><td>18.5734</td><td>0.0117</td><td>17.3796</td><td>0.0055</td><td>16.6968</td><td>0.0055</td><td>143940140648846022</td></tr>\n",
       "<tr><td>14.065327130</td><td>29.940516100</td><td>21.9467</td><td>0.1675</td><td>21.9171</td><td>0.2341</td><td>21.5239</td><td>0.1704</td><td>20.4353</td><td>0.1062</td><td>--</td><td>--</td><td>21.4822</td><td>0.3099</td><td>143920140652529204</td></tr>\n",
       "<tr><td>14.055183240</td><td>29.940505820</td><td>19.4903</td><td>0.0138</td><td>19.2254</td><td>0.0097</td><td>19.0752</td><td>0.0096</td><td>19.5704</td><td>0.0164</td><td>19.3333</td><td>0.0228</td><td>19.1638</td><td>0.0148</td><td>143920140551769207</td></tr>\n",
       "<tr><td>14.102143420</td><td>29.953630920</td><td>21.2255</td><td>0.078</td><td>20.8076</td><td>0.0363</td><td>20.5051</td><td>0.0346</td><td>20.9859</td><td>0.2055</td><td>20.7781</td><td>0.0405</td><td>20.5563</td><td>0.0445</td><td>143940141021534965</td></tr>\n",
       "<tr><td>14.070594300</td><td>29.950186540</td><td>20.4981</td><td>0.0173</td><td>19.5996</td><td>0.0145</td><td>19.2125</td><td>0.0094</td><td>20.4859</td><td>0.0885</td><td>19.6626</td><td>0.0045</td><td>19.2959</td><td>0.0242</td><td>143940140705970840</td></tr>\n",
       "<tr><td>14.083395060</td><td>29.975465550</td><td>20.7443</td><td>0.083</td><td>21.7194</td><td>0.1123</td><td>21.4957</td><td>0.0443</td><td>20.2796</td><td>0.061</td><td>21.6014</td><td>0.2094</td><td>21.5252</td><td>0.1263</td><td>143970140832761239</td></tr>\n",
       "<tr><td>14.078977400</td><td>29.970775730</td><td>20.1611</td><td>0.0573</td><td>20.0891</td><td>0.0233</td><td>19.7892</td><td>0.0331</td><td>20.2014</td><td>0.0842</td><td>20.1784</td><td>0.0294</td><td>19.9105</td><td>0.0382</td><td>143960140789825553</td></tr>\n",
       "<tr><td>14.073640990</td><td>29.946256280</td><td>21.742</td><td>0.1659</td><td>21.4235</td><td>0.0709</td><td>20.0849</td><td>0.024</td><td>21.73</td><td>0.2242</td><td>20.7534</td><td>0.0874</td><td>20.0568</td><td>0.038</td><td>143930140736816099</td></tr>\n",
       "<tr><td>14.080301330</td><td>29.953170140</td><td>21.954</td><td>0.0357</td><td>20.5107</td><td>0.0255</td><td>19.6265</td><td>0.0155</td><td>22.2811</td><td>0.0746</td><td>20.7588</td><td>0.0548</td><td>19.7416</td><td>0.0387</td><td>143940140803174420</td></tr>\n",
       "<tr><td>14.080034650</td><td>29.948849660</td><td>20.8326</td><td>0.0426</td><td>20.4129</td><td>0.0326</td><td>20.1583</td><td>0.0406</td><td>20.8368</td><td>0.0292</td><td>20.4543</td><td>0.0335</td><td>20.1612</td><td>0.0523</td><td>143930140800439158</td></tr>\n",
       "<tr><td>...</td><td>...</td><td>...</td><td>...</td><td>...</td><td>...</td><td>...</td><td>...</td><td>...</td><td>...</td><td>...</td><td>...</td><td>...</td><td>...</td><td>...</td></tr>\n",
       "<tr><td>14.244880470</td><td>30.524575490</td><td>21.7346</td><td>0.0812</td><td>20.595</td><td>0.022</td><td>19.8298</td><td>0.0158</td><td>21.7551</td><td>0.1036</td><td>20.7054</td><td>0.0177</td><td>19.9447</td><td>0.0324</td><td>144630142448890093</td></tr>\n",
       "<tr><td>14.264814900</td><td>30.503574930</td><td>21.5469</td><td>0.0503</td><td>20.9882</td><td>0.0535</td><td>20.6039</td><td>0.0391</td><td>21.6102</td><td>0.0969</td><td>21.0299</td><td>0.0434</td><td>20.69</td><td>0.0462</td><td>144600142647914869</td></tr>\n",
       "<tr><td>14.243111520</td><td>30.515105430</td><td>21.2454</td><td>0.0411</td><td>21.0927</td><td>0.0861</td><td>21.2123</td><td>0.0356</td><td>21.5317</td><td>0.0677</td><td>21.2853</td><td>0.1095</td><td>21.2153</td><td>0.0665</td><td>144610142430938675</td></tr>\n",
       "<tr><td>14.240395270</td><td>30.517968160</td><td>21.5973</td><td>0.069</td><td>21.3334</td><td>0.0822</td><td>21.3115</td><td>0.0437</td><td>21.5717</td><td>0.0723</td><td>21.5774</td><td>0.0866</td><td>21.5245</td><td>0.0667</td><td>144620142403522091</td></tr>\n",
       "<tr><td>14.331034550</td><td>30.534066330</td><td>21.1987</td><td>0.0496</td><td>19.893</td><td>0.0154</td><td>18.9838</td><td>0.021</td><td>21.139</td><td>0.141</td><td>20.0025</td><td>0.0321</td><td>19.1005</td><td>0.0074</td><td>144640143310091481</td></tr>\n",
       "<tr><td>14.425147380</td><td>30.530827310</td><td>21.9791</td><td>0.1945</td><td>21.8283</td><td>0.1776</td><td>21.5842</td><td>0.1241</td><td>21.8374</td><td>0.3164</td><td>22.0082</td><td>0.282</td><td>21.5877</td><td>0.2592</td><td>144630144249367904</td></tr>\n",
       "<tr><td>14.423522920</td><td>30.531822290</td><td>21.1737</td><td>0.051</td><td>19.8407</td><td>0.0067</td><td>18.9538</td><td>0.0107</td><td>21.3338</td><td>0.0799</td><td>19.9025</td><td>0.0191</td><td>19.0618</td><td>0.0187</td><td>144630144235258798</td></tr>\n",
       "<tr><td>14.406973740</td><td>30.525252420</td><td>21.7457</td><td>0.0706</td><td>20.6041</td><td>0.0186</td><td>19.2642</td><td>0.0093</td><td>21.768</td><td>0.2916</td><td>20.4515</td><td>0.0734</td><td>19.2986</td><td>0.0151</td><td>144630144069470890</td></tr>\n",
       "<tr><td>14.409126830</td><td>30.536941260</td><td>20.4746</td><td>0.0096</td><td>19.5995</td><td>0.0044</td><td>19.2619</td><td>0.0088</td><td>20.6776</td><td>0.0277</td><td>19.6757</td><td>0.0186</td><td>19.391</td><td>0.0258</td><td>144640144091254947</td></tr>\n",
       "<tr><td>14.589366880</td><td>30.522575860</td><td>19.2947</td><td>0.0076</td><td>18.0537</td><td>0.0039</td><td>17.2883</td><td>0.0041</td><td>19.4051</td><td>0.0096</td><td>18.1456</td><td>0.0089</td><td>17.3654</td><td>0.0031</td><td>144620145893347711</td></tr>\n",
       "<tr><td>14.243093890</td><td>30.523644780</td><td>21.0856</td><td>0.0671</td><td>20.114</td><td>0.0181</td><td>19.7503</td><td>0.0108</td><td>21.1217</td><td>0.1367</td><td>20.2543</td><td>0.0286</td><td>19.8549</td><td>0.0305</td><td>144620142430289060</td></tr>\n",
       "</table></div>"
      ],
      "text/plain": [
       "<Table length=1735>\n",
       "    ra_ps1       dec_ps1     PS1_g  PS1_g_err  PS1_r  PS1_r_err ...  rKmag  e_rKmag  iKmag  e_iKmag       PS1_ID      \n",
       "     deg           deg                                          ...                                                   \n",
       "   float64       float64      str7     str6     str7     str6   ...   str7    str6    str7    str6        str18       \n",
       "------------- ------------- ------- --------- ------- --------- ... ------- ------- ------- ------- ------------------\n",
       " 14.075058940  29.943273050 15.5122    0.0058 15.1049    0.0013 ... 15.1361   0.003 14.9808  0.0023 143930140750192533\n",
       " 14.064887690  29.954520240 18.4951     0.005 17.3174    0.0028 ... 17.3796  0.0055 16.6968  0.0055 143940140648846022\n",
       " 14.065327130  29.940516100 21.9467    0.1675 21.9171    0.2341 ...      --      -- 21.4822  0.3099 143920140652529204\n",
       " 14.055183240  29.940505820 19.4903    0.0138 19.2254    0.0097 ... 19.3333  0.0228 19.1638  0.0148 143920140551769207\n",
       " 14.102143420  29.953630920 21.2255     0.078 20.8076    0.0363 ... 20.7781  0.0405 20.5563  0.0445 143940141021534965\n",
       " 14.070594300  29.950186540 20.4981    0.0173 19.5996    0.0145 ... 19.6626  0.0045 19.2959  0.0242 143940140705970840\n",
       " 14.083395060  29.975465550 20.7443     0.083 21.7194    0.1123 ... 21.6014  0.2094 21.5252  0.1263 143970140832761239\n",
       " 14.078977400  29.970775730 20.1611    0.0573 20.0891    0.0233 ... 20.1784  0.0294 19.9105  0.0382 143960140789825553\n",
       " 14.073640990  29.946256280  21.742    0.1659 21.4235    0.0709 ... 20.7534  0.0874 20.0568   0.038 143930140736816099\n",
       " 14.080301330  29.953170140  21.954    0.0357 20.5107    0.0255 ... 20.7588  0.0548 19.7416  0.0387 143940140803174420\n",
       " 14.080034650  29.948849660 20.8326    0.0426 20.4129    0.0326 ... 20.4543  0.0335 20.1612  0.0523 143930140800439158\n",
       "          ...           ...     ...       ...     ...       ... ...     ...     ...     ...     ...                ...\n",
       " 14.244880470  30.524575490 21.7346    0.0812  20.595     0.022 ... 20.7054  0.0177 19.9447  0.0324 144630142448890093\n",
       " 14.264814900  30.503574930 21.5469    0.0503 20.9882    0.0535 ... 21.0299  0.0434   20.69  0.0462 144600142647914869\n",
       " 14.243111520  30.515105430 21.2454    0.0411 21.0927    0.0861 ... 21.2853  0.1095 21.2153  0.0665 144610142430938675\n",
       " 14.240395270  30.517968160 21.5973     0.069 21.3334    0.0822 ... 21.5774  0.0866 21.5245  0.0667 144620142403522091\n",
       " 14.331034550  30.534066330 21.1987    0.0496  19.893    0.0154 ... 20.0025  0.0321 19.1005  0.0074 144640143310091481\n",
       " 14.425147380  30.530827310 21.9791    0.1945 21.8283    0.1776 ... 22.0082   0.282 21.5877  0.2592 144630144249367904\n",
       " 14.423522920  30.531822290 21.1737     0.051 19.8407    0.0067 ... 19.9025  0.0191 19.0618  0.0187 144630144235258798\n",
       " 14.406973740  30.525252420 21.7457    0.0706 20.6041    0.0186 ... 20.4515  0.0734 19.2986  0.0151 144630144069470890\n",
       " 14.409126830  30.536941260 20.4746    0.0096 19.5995    0.0044 ... 19.6757  0.0186  19.391  0.0258 144640144091254947\n",
       " 14.589366880  30.522575860 19.2947    0.0076 18.0537    0.0039 ... 18.1456  0.0089 17.3654  0.0031 144620145893347711\n",
       " 14.243093890  30.523644780 21.0856    0.0671  20.114    0.0181 ... 20.2543  0.0286 19.8549  0.0305 144620142430289060"
      ]
     },
     "execution_count": 25,
     "metadata": {},
     "output_type": "execute_result"
    }
   ],
   "source": [
    "viziertable"
   ]
  },
  {
   "cell_type": "code",
   "execution_count": 26,
   "id": "38f29831",
   "metadata": {},
   "outputs": [],
   "source": [
    "# viziertable\n",
    "ravizierps1=viziertable['ra_ps1']\n",
    "decvizierps1=viziertable['dec_ps1']"
   ]
  },
  {
   "cell_type": "code",
   "execution_count": 27,
   "id": "210f1521",
   "metadata": {},
   "outputs": [],
   "source": [
    "with open('vizierps1.reg', 'w') as f:\n",
    "        f.write('global color={0} dashlist=8 3 width=2 font=\\\"helvetica 10 normal roman\\\" select=1 highlite=1 dash=0 fixed=0 edit=1 move=1 delete=1 include=1 source=1 \\n'.format('red'))\n",
    "        f.write('fk5 \\n')\n",
    "        for star in range(len(ravizierps1)):\n",
    "            xval = ravizierps1[star]\n",
    "            yval = decvizierps1[star]\n",
    "            f.write('circle({ra},{dec},{radius}\")\\n'.format(ra=xval, dec=yval,radius=6))"
   ]
  },
  {
   "cell_type": "code",
   "execution_count": 28,
   "id": "da631bfa",
   "metadata": {},
   "outputs": [
    {
     "data": {
      "text/plain": [
       "array([14.07505894, 14.06488769, 14.06532713, ..., 14.40912683,\n",
       "       14.58936688, 14.24309389])"
      ]
     },
     "execution_count": 28,
     "metadata": {},
     "output_type": "execute_result"
    }
   ],
   "source": [
    "len(ravizierps1)\n",
    "ravizierps1=np.asarray(ravizierps1)\n",
    "decvizierps1=np.asarray(decvizierps1)\n",
    "\n",
    "ravizierps1"
   ]
  },
  {
   "cell_type": "code",
   "execution_count": 31,
   "id": "11e42f24",
   "metadata": {},
   "outputs": [
    {
     "data": {
      "text/plain": [
       "(127, 1735)"
      ]
     },
     "execution_count": 31,
     "metadata": {},
     "output_type": "execute_result"
    }
   ],
   "source": [
    "len(rapkl),len(ravizierps1)\n",
    "\n"
   ]
  },
  {
   "cell_type": "code",
   "execution_count": 33,
   "id": "3a202c5b",
   "metadata": {},
   "outputs": [
    {
     "name": "stdout",
     "output_type": "stream",
     "text": [
      "Number of matches:  29 out of  127\n"
     ]
    },
    {
     "data": {
      "text/plain": [
       "([array([False, False, False, False, False, False, False, False, False,\n",
       "         False, False, False, False, False, False, False, False, False,\n",
       "         False, False, False, False, False, False, False, False, False,\n",
       "         False, False, False, False, False, False, False, False, False,\n",
       "         False, False, False, False, False, False, False,  True,  True,\n",
       "          True,  True, False,  True,  True, False, False,  True, False,\n",
       "         False,  True,  True,  True, False, False,  True,  True,  True,\n",
       "          True, False,  True, False,  True, False, False, False, False,\n",
       "          True,  True, False,  True,  True,  True, False, False,  True,\n",
       "         False, False, False, False, False,  True, False,  True, False,\n",
       "         False, False,  True, False, False, False, False,  True,  True,\n",
       "         False, False, False,  True, False, False, False, False, False,\n",
       "          True, False, False, False, False, False, False, False, False,\n",
       "         False, False, False, False, False, False, False, False, False,\n",
       "         False])],\n",
       " [array([ 317,  109,  265,   31,  262,  138,  436,  114,  279,  280,  118,\n",
       "          268,  160,  123,  434,  159,  148,  455,  153, 1064,  392,  465,\n",
       "          458,  456,  456,  417,  475,  418,  400,  205,  473,  469,  460,\n",
       "         1100,  503,  406,  484,  483,  564,  501,  433,  508,  430,  562,\n",
       "          496,  528,  571, 1120,  579,  573,  520, 1137,  575,  514,  596,\n",
       "          578, 1123,  585,  542,  727,  576,  591,  580,  608, 1215,  604,\n",
       "          515,  603,  541,  543,  522, 1130,  538,  535,  625,  623,  587,\n",
       "          613, 1154, 1254,  629,  553, 1255, 1161, 1238,  780,  630, 1258,\n",
       "          639, 1236, 1239,  801,  660, 1264, 1265, 1262,  638, 1241,  658,\n",
       "          892, 1252,  888, 1290, 1249,  643, 1250, 1281,  646, 1292, 1300,\n",
       "         1378,  900, 1375, 1325,  924,  907, 1357,  918,  921, 1350, 1427,\n",
       "          943, 1397, 1454, 1594, 1334, 1348])],\n",
       " <Angle [1.93651233e-03, 1.72132445e-03, 1.39769456e-03, 1.36097145e-03,\n",
       "         1.32288994e-03, 1.30480090e-03, 8.28696004e-04, 1.54181738e-03,\n",
       "         1.20926397e-03, 1.17718706e-03, 1.44674057e-03, 1.20515153e-03,\n",
       "         1.57619540e-03, 1.46692198e-03, 1.12516993e-03, 1.55048587e-03,\n",
       "         1.27051766e-03, 1.00072425e-03, 1.09612718e-03, 1.59184362e-03,\n",
       "         1.08605666e-03, 8.57300340e-04, 9.19678042e-04, 1.30223680e-02,\n",
       "         5.81376027e-03, 1.42601719e-03, 7.86474910e-04, 1.25243871e-03,\n",
       "         9.45930816e-04, 1.20104380e-02, 7.35251261e-04, 6.83728161e-04,\n",
       "         7.49364163e-04, 6.10619933e-04, 7.30102091e-04, 7.90897911e-04,\n",
       "         6.15007822e-04, 5.65990009e-04, 6.53254756e-04, 6.50090016e-04,\n",
       "         8.99510154e-04, 9.79367226e-04, 9.74740032e-04, 4.12354661e-04,\n",
       "         3.59490490e-04, 5.05563906e-04, 3.36302774e-04, 1.16608128e-03,\n",
       "         3.23136648e-04, 3.21748194e-04, 7.74007177e-04, 1.40219857e-03,\n",
       "         2.26324927e-04, 1.08119727e-03, 7.48519978e-04, 2.23550165e-04,\n",
       "         4.59821819e-04, 2.08898810e-04, 6.26710550e-04, 1.19557374e-03,\n",
       "         1.86221022e-04, 4.01786431e-04, 2.45774766e-04, 3.16283013e-04,\n",
       "         6.60762098e-04, 3.37180811e-04, 1.00153156e-03, 2.42324268e-04,\n",
       "         6.76105158e-04, 7.27040920e-04, 7.56132735e-04, 1.01243282e-03,\n",
       "         5.04204104e-04, 4.46635467e-04, 5.86520292e-03, 1.69322875e-04,\n",
       "         5.91416660e-05, 1.62974696e-04, 1.03635927e-03, 9.42776996e-04,\n",
       "         1.02109782e-04, 6.73311496e-04, 1.02221059e-03, 1.19520375e-03,\n",
       "         2.85446223e-03, 1.23016425e-03, 2.81793162e-04, 9.66506922e-04,\n",
       "         5.39023553e-04, 5.73226759e-04, 5.96215917e-04, 7.59130160e-04,\n",
       "         2.98646490e-04, 1.12025593e-03, 1.09929694e-03, 8.49663351e-04,\n",
       "         6.01054709e-04, 5.05251546e-04, 4.24865975e-04, 6.69486031e-04,\n",
       "         6.42292489e-04, 7.58768086e-04, 4.81562057e-04, 7.33960585e-04,\n",
       "         6.05022053e-04, 7.55685424e-04, 9.65045430e-04, 6.10147234e-04,\n",
       "         5.53426908e-04, 7.45939066e-04, 1.26879315e-03, 9.59999400e-04,\n",
       "         1.42728722e-03, 1.41896941e-02, 4.15405537e-03, 1.11518585e-03,\n",
       "         1.23222814e-03, 6.06921564e-03, 1.09709144e-02, 1.19477037e-03,\n",
       "         1.46158739e-03, 1.59607241e-03, 1.15579331e-02, 1.51017994e-03,\n",
       "         1.22528063e-03, 1.04909852e-03, 1.12257383e-03] deg>)"
      ]
     },
     "execution_count": 33,
     "metadata": {},
     "output_type": "execute_result"
    }
   ],
   "source": [
    "compare_phot(rapkl,decpkl,ravizierps1,decvizierps1)"
   ]
  },
  {
   "cell_type": "code",
   "execution_count": null,
   "id": "99bc0758",
   "metadata": {},
   "outputs": [],
   "source": []
  }
 ],
 "metadata": {
  "kernelspec": {
   "display_name": "Python [conda env:astroc] *",
   "language": "python",
   "name": "conda-env-astroc-py"
  },
  "language_info": {
   "codemirror_mode": {
    "name": "ipython",
    "version": 3
   },
   "file_extension": ".py",
   "mimetype": "text/x-python",
   "name": "python",
   "nbconvert_exporter": "python",
   "pygments_lexer": "ipython3",
   "version": "3.7.5"
  }
 },
 "nbformat": 4,
 "nbformat_minor": 5
}
