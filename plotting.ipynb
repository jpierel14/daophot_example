{
 "cells": [
  {
   "cell_type": "code",
   "execution_count": 41,
   "id": "e249537f",
   "metadata": {},
   "outputs": [
    {
     "name": "stdout",
     "output_type": "stream",
     "text": [
      "102 28714.9175 102 66333.0675 102\n"
     ]
    }
   ],
   "source": [
    "import matplotlib.pyplot as plt\n",
    "from astropy.table import Table\n",
    "import numpy as np\n",
    "\n",
    "daopy = Table.read('outputcat_daopy',format='ascii') \n",
    "phot_dao = Table.read('outputcat_dao',format='ascii')\n",
    "phot_epsf = Table.read('outputcat_photutils',format='ascii')\n",
    "print(len(daopy),np.nanmedian(daopy['flux']),len(phot_dao),\n",
    "      np.median(phot_dao['flux']),len(phot_epsf))#,np.median(phot_epsf['flux']))"
   ]
  },
  {
   "cell_type": "code",
   "execution_count": 42,
   "id": "dd698153",
   "metadata": {},
   "outputs": [
    {
     "data": {
      "image/png": "[encoded data removed]",
      "text/plain": [
       "<Figure size 432x288 with 1 Axes>"
      ]
     },
     "metadata": {
      "needs_background": "light"
     },
     "output_type": "display_data"
    }
   ],
   "source": [
    "plt.hist(daopy['flux'],density=False,alpha=.5,bins=np.arange(0,6e5,2e4),label='dao.py')\n",
    "plt.hist(phot_dao['flux'],density=False,alpha=.5,bins=np.arange(0,6e5,2e4),label='photutils_dao')\n",
    "plt.legend()\n",
    "plt.show()"
   ]
  },
  {
   "cell_type": "code",
   "execution_count": 20,
   "id": "4108fd1f",
   "metadata": {},
   "outputs": [
    {
     "name": "stderr",
     "output_type": "stream",
     "text": [
      "WARNING: AstropyDeprecationWarning: outputcat_daopy already exists. Automatically overwriting ASCII files is deprecated. Use the argument 'overwrite=True' in the future. [astropy.io.ascii.ui]\n"
     ]
    }
   ],
   "source": [
    "daopy.write('outputcat_daopy',format='ascii')"
   ]
  },
  {
   "cell_type": "code",
   "execution_count": 11,
   "id": "52ef4026",
   "metadata": {},
   "outputs": [
    {
     "data": {
      "text/html": [
       "<div><i>Table length=102</i>\n",
       "<table id=\"table140565838188304\" class=\"table-striped table-bordered table-condensed\">\n",
       "<thead><tr><th>X</th><th>Y</th><th>flux</th><th>fluxerror</th><th>type</th><th>peakval</th><th>sigx</th><th>sigxy</th><th>sigy</th><th>sky</th><th>chisqr</th><th>apphot</th><th>apphoterr</th></tr></thead>\n",
       "<thead><tr><th>float64</th><th>float64</th><th>float64</th><th>float64</th><th>float64</th><th>float64</th><th>float64</th><th>float64</th><th>float64</th><th>float64</th><th>float64</th><th>float64</th><th>float64</th></tr></thead>\n",
       "<tr><td>2531.58</td><td>96.72</td><td>215315.29</td><td>1698.263</td><td>1.0</td><td>7670.379</td><td>0.14</td><td>-0.006</td><td>0.129</td><td>199.469</td><td>8.878</td><td>220405.843</td><td>477.597</td></tr>\n",
       "<tr><td>2704.66</td><td>181.34</td><td>25342.737</td><td>415.074</td><td>1.0</td><td>902.808</td><td>0.283</td><td>0.016</td><td>0.286</td><td>199.98</td><td>3.588</td><td>25633.73</td><td>190.002</td></tr>\n",
       "<tr><td>2187.64</td><td>220.88</td><td>687257.657</td><td>11538.073</td><td>7.0</td><td>24482.825</td><td>0.09</td><td>0.023</td><td>0.131</td><td>200.464</td><td>192.031</td><td>705298.752</td><td>847.49</td></tr>\n",
       "<tr><td>2569.78</td><td>344.94</td><td>nan</td><td>nan</td><td>5.0</td><td>nan</td><td>6.029</td><td>2.599</td><td>1.027</td><td>199.827</td><td>nan</td><td>21660.852</td><td>181.853</td></tr>\n",
       "<tr><td>3900.85</td><td>414.86</td><td>245303.612</td><td>4955.586</td><td>7.0</td><td>8738.681</td><td>0.106</td><td>-0.003</td><td>0.119</td><td>200.986</td><td>80.672</td><td>255167.878</td><td>516.502</td></tr>\n",
       "<tr><td>3805.16</td><td>429.7</td><td>18609.495</td><td>396.097</td><td>1.0</td><td>662.944</td><td>0.372</td><td>0.064</td><td>0.351</td><td>199.999</td><td>4.772</td><td>19416.683</td><td>163.31</td></tr>\n",
       "<tr><td>3438.02</td><td>494.6</td><td>16031.403</td><td>278.815</td><td>1.0</td><td>571.102</td><td>0.605</td><td>-0.059</td><td>0.59</td><td>199.857</td><td>1.916</td><td>16300.223</td><td>165.396</td></tr>\n",
       "<tr><td>2653.78</td><td>660.33</td><td>115285.768</td><td>1847.688</td><td>1.0</td><td>4106.933</td><td>0.138</td><td>0.004</td><td>0.151</td><td>199.915</td><td>19.671</td><td>116824.644</td><td>359.782</td></tr>\n",
       "<tr><td>1213.47</td><td>864.68</td><td>120677.429</td><td>1943.951</td><td>7.0</td><td>4299.005</td><td>0.142</td><td>-0.001</td><td>0.151</td><td>200.242</td><td>25.276</td><td>123253.561</td><td>367.032</td></tr>\n",
       "<tr><td>2568.93</td><td>968.94</td><td>26288.231</td><td>452.389</td><td>1.0</td><td>936.49</td><td>0.252</td><td>-0.011</td><td>0.294</td><td>199.463</td><td>3.915</td><td>26797.239</td><td>192.088</td></tr>\n",
       "<tr><td>...</td><td>...</td><td>...</td><td>...</td><td>...</td><td>...</td><td>...</td><td>...</td><td>...</td><td>...</td><td>...</td><td>...</td><td>...</td></tr>\n",
       "<tr><td>3473.71</td><td>4545.85</td><td>11763.42</td><td>236.46</td><td>1.0</td><td>419.059</td><td>0.675</td><td>0.057</td><td>0.688</td><td>199.318</td><td>2.161</td><td>11897.214</td><td>153.022</td></tr>\n",
       "<tr><td>3982.81</td><td>4748.84</td><td>44944.466</td><td>569.078</td><td>1.0</td><td>1601.099</td><td>0.174</td><td>0.018</td><td>0.194</td><td>198.261</td><td>4.68</td><td>46494.445</td><td>230.408</td></tr>\n",
       "<tr><td>5560.77</td><td>4895.9</td><td>81119.764</td><td>958.854</td><td>1.0</td><td>2889.806</td><td>0.152</td><td>0.004</td><td>0.168</td><td>199.79</td><td>6.834</td><td>82297.759</td><td>305.026</td></tr>\n",
       "<tr><td>1521.13</td><td>5028.65</td><td>20613.394</td><td>471.659</td><td>1.0</td><td>734.33</td><td>0.317</td><td>0.002</td><td>0.324</td><td>199.65</td><td>6.28</td><td>20635.506</td><td>175.208</td></tr>\n",
       "<tr><td>1205.88</td><td>5265.3</td><td>19236.584</td><td>377.492</td><td>1.0</td><td>685.283</td><td>0.339</td><td>0.0</td><td>0.376</td><td>199.795</td><td>4.237</td><td>19000.699</td><td>164.633</td></tr>\n",
       "<tr><td>3707.3</td><td>6067.69</td><td>583400.246</td><td>6609.092</td><td>7.0</td><td>20783.015</td><td>0.075</td><td>0.005</td><td>0.087</td><td>197.219</td><td>51.26</td><td>622267.25</td><td>794.621</td></tr>\n",
       "<tr><td>3967.44</td><td>5956.98</td><td>12693.324</td><td>243.825</td><td>1.0</td><td>452.186</td><td>0.459</td><td>-0.001</td><td>0.628</td><td>199.053</td><td>2.35</td><td>13526.071</td><td>156.744</td></tr>\n",
       "<tr><td>2139.04</td><td>6096.64</td><td>nan</td><td>nan</td><td>5.0</td><td>nan</td><td>0.869</td><td>0.489</td><td>0.315</td><td>199.963</td><td>nan</td><td>36971.999</td><td>203.896</td></tr>\n",
       "<tr><td>4096.02</td><td>5599.51</td><td>19115.758</td><td>359.685</td><td>1.0</td><td>680.979</td><td>0.279</td><td>0.017</td><td>0.294</td><td>199.285</td><td>3.927</td><td>20799.485</td><td>165.248</td></tr>\n",
       "<tr><td>3637.14</td><td>5866.91</td><td>16467.489</td><td>314.496</td><td>1.0</td><td>586.637</td><td>0.326</td><td>0.026</td><td>0.364</td><td>199.657</td><td>3.361</td><td>17942.589</td><td>165.716</td></tr>\n",
       "</table></div>"
      ],
      "text/plain": [
       "<Table length=102>\n",
       "   X       Y       flux    fluxerror ...   sky    chisqr   apphot   apphoterr\n",
       "float64 float64  float64    float64  ... float64 float64  float64    float64 \n",
       "------- ------- ---------- --------- ... ------- ------- ---------- ---------\n",
       "2531.58   96.72  215315.29  1698.263 ... 199.469   8.878 220405.843   477.597\n",
       "2704.66  181.34  25342.737   415.074 ...  199.98   3.588   25633.73   190.002\n",
       "2187.64  220.88 687257.657 11538.073 ... 200.464 192.031 705298.752    847.49\n",
       "2569.78  344.94        nan       nan ... 199.827     nan  21660.852   181.853\n",
       "3900.85  414.86 245303.612  4955.586 ... 200.986  80.672 255167.878   516.502\n",
       "3805.16   429.7  18609.495   396.097 ... 199.999   4.772  19416.683    163.31\n",
       "3438.02   494.6  16031.403   278.815 ... 199.857   1.916  16300.223   165.396\n",
       "2653.78  660.33 115285.768  1847.688 ... 199.915  19.671 116824.644   359.782\n",
       "1213.47  864.68 120677.429  1943.951 ... 200.242  25.276 123253.561   367.032\n",
       "2568.93  968.94  26288.231   452.389 ... 199.463   3.915  26797.239   192.088\n",
       "    ...     ...        ...       ... ...     ...     ...        ...       ...\n",
       "3473.71 4545.85   11763.42    236.46 ... 199.318   2.161  11897.214   153.022\n",
       "3982.81 4748.84  44944.466   569.078 ... 198.261    4.68  46494.445   230.408\n",
       "5560.77  4895.9  81119.764   958.854 ...  199.79   6.834  82297.759   305.026\n",
       "1521.13 5028.65  20613.394   471.659 ...  199.65    6.28  20635.506   175.208\n",
       "1205.88  5265.3  19236.584   377.492 ... 199.795   4.237  19000.699   164.633\n",
       " 3707.3 6067.69 583400.246  6609.092 ... 197.219   51.26  622267.25   794.621\n",
       "3967.44 5956.98  12693.324   243.825 ... 199.053    2.35  13526.071   156.744\n",
       "2139.04 6096.64        nan       nan ... 199.963     nan  36971.999   203.896\n",
       "4096.02 5599.51  19115.758   359.685 ... 199.285   3.927  20799.485   165.248\n",
       "3637.14 5866.91  16467.489   314.496 ... 199.657   3.361  17942.589   165.716"
      ]
     },
     "execution_count": 11,
     "metadata": {},
     "output_type": "execute_result"
    }
   ],
   "source": [
    "daopy"
   ]
  },
  {
   "cell_type": "code",
   "execution_count": null,
   "id": "403d8d24",
   "metadata": {},
   "outputs": [],
   "source": []
  }
 ],
 "metadata": {
  "kernelspec": {
   "display_name": "Python 3",
   "language": "python",
   "name": "python3"
  },
  "language_info": {
   "codemirror_mode": {
    "name": "ipython",
    "version": 3
   },
   "file_extension": ".py",
   "mimetype": "text/x-python",
   "name": "python",
   "nbconvert_exporter": "python",
   "pygments_lexer": "ipython3",
   "version": "3.7.10"
  }
 },
 "nbformat": 4,
 "nbformat_minor": 5
}
